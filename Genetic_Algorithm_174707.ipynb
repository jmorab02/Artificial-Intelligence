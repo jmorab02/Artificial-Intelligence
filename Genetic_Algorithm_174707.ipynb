{
 "cells": [
  {
   "cell_type": "code",
   "execution_count": 60,
   "metadata": {},
   "outputs": [],
   "source": [
    "import numpy as np, random, operator, pandas as pd, matplotlib.pyplot as plt"
   ]
  },
  {
   "cell_type": "markdown",
   "metadata": {},
   "source": [
    "## Create necessary classes and functions"
   ]
  },
  {
   "cell_type": "markdown",
   "metadata": {},
   "source": [
    "Create class to handle \"cities\""
   ]
  },
  {
   "cell_type": "code",
   "execution_count": 61,
   "metadata": {},
   "outputs": [],
   "source": [
    "class Station:\n",
    "    def __init__(self, name):\n",
    "        self.name = name             # Nombre de la estación\n",
    "        self.connections = {}        # Diccionario para almacenar conexiones a otras estaciones y sus distancias\n",
    "        self.default_distance = 100  # Distancia predeterminada cuando no hay conexión directa\n",
    "    \n",
    "    def add_connection(self, station, travel_time):\n",
    "        self.connections[station] = travel_time      # Agrega una conexión y su tiempo de viaje al diccionario de conexiones\n",
    "\n",
    "    def distance(self, station):\n",
    "        return self.connections.get(station, self.default_distance)      # Obtiene la distancia a otra estación, default si no está conectada directamente\n",
    "\n",
    "    def __repr__(self):\n",
    "        return self.name      # Representación en string de la estación, mostrando su nombre\n",
    "    \n",
    "    "
   ]
  },
  {
   "cell_type": "code",
   "execution_count": 62,
   "metadata": {},
   "outputs": [],
   "source": [
    "#  Instancia un objeto Station para cada estación del metro\n",
    "el_rosario = Station(\"el_rosario\")\n",
    "instituto_del_petroleo = Station(\"instituto_del_petroleo\")\n",
    "deportivo_18_de_marzo = Station(\"deportivo_18_de_marzo\")\n",
    "la_raza = Station(\"la_raza\")\n",
    "consulado = Station(\"consulado\")\n",
    "morelos = Station(\"morelos\")\n",
    "san_lazaro = Station(\"san_lazaro\")\n",
    "guerrero = Station(\"guerrero\")\n",
    "hidalgo = Station(\"hidalgo\")\n",
    "bellas_artes = Station(\"bellas_artes\")\n",
    "salto_del_agua = Station(\"salto_del_agua\")\n",
    "balderas = Station(\"balderas\")\n",
    "tacubaya = Station(\"tacubaya\")\n",
    "pino_suarez = Station(\"pino_suarez\")\n",
    "martin_carrera = Station(\"martin_carrera\")\n",
    "oceania = Station(\"oceania\")\n",
    "pantitlan = Station(\"pantitlan\")\n",
    "candelaria = Station(\"candelaria\")\n",
    "centro_medico = Station(\"centro_medico\")\n",
    "tacuba = Station(\"tacuba\")\n",
    "garibaldi = Station(\"garibaldi\")\n",
    "ermita = Station(\"ermita\")\n",
    "atlalilco = Station(\"atlalico\")\n",
    "zapata  = Station(\"zapata\")\n",
    "mixcoac = Station(\"mixcoac\")\n",
    "jamaica = Station(\"jamaica\")\n",
    "chabacano = Station(\"chabacano\")\n",
    "\n",
    "# Se agregan conexiones entre estaciones\n",
    "el_rosario.add_connection(instituto_del_petroleo, 6)\n",
    "el_rosario.add_connection(tacuba, 4)\n",
    "instituto_del_petroleo.add_connection(el_rosario, 6)\n",
    "instituto_del_petroleo.add_connection(la_raza, 2)\n",
    "instituto_del_petroleo.add_connection(deportivo_18_de_marzo, 2)\n",
    "deportivo_18_de_marzo.add_connection(instituto_del_petroleo, 2)\n",
    "deportivo_18_de_marzo.add_connection(martin_carrera, 2)\n",
    "martin_carrera.add_connection(deportivo_18_de_marzo, 2)\n",
    "martin_carrera.add_connection(consulado, 3)\n",
    "tacuba.add_connection(el_rosario, 4)\n",
    "tacuba.add_connection(hidalgo, 7)\n",
    "tacuba.add_connection(tacubaya, 5)\n",
    "hidalgo.add_connection(tacuba, 7)\n",
    "hidalgo.add_connection(guerrero, 1)\n",
    "hidalgo.add_connection(bellas_artes, 1)\n",
    "hidalgo.add_connection(balderas, 2)\n",
    "bellas_artes.add_connection(hidalgo, 1)\n",
    "bellas_artes.add_connection(pino_suarez, 3)\n",
    "bellas_artes.add_connection(garibaldi, 1)\n",
    "bellas_artes.add_connection(salto_del_agua, 2)\n",
    "pino_suarez.add_connection(bellas_artes, 3)\n",
    "pino_suarez.add_connection(salto_del_agua, 2)\n",
    "pino_suarez.add_connection(candelaria, 2)\n",
    "pino_suarez.add_connection(chabacano, 2)\n",
    "chabacano.add_connection(pino_suarez, 2)\n",
    "chabacano.add_connection(centro_medico, 2)\n",
    "chabacano.add_connection(jamaica, 1)\n",
    "chabacano.add_connection(ermita, 6)\n",
    "ermita.add_connection(chabacano, 6)\n",
    "ermita.add_connection(zapata, 3)\n",
    "ermita.add_connection(atlalilco, 2)\n",
    "tacubaya.add_connection(tacuba, 5)\n",
    "tacubaya.add_connection(balderas, 6)\n",
    "tacubaya.add_connection(centro_medico, 3)\n",
    "tacubaya.add_connection(mixcoac, 3)\n",
    "balderas.add_connection(tacubaya, 6)\n",
    "balderas.add_connection(hidalgo, 2)\n",
    "balderas.add_connection(salto_del_agua, 1)\n",
    "balderas.add_connection(centro_medico, 3)\n",
    "salto_del_agua.add_connection(balderas, 1)\n",
    "salto_del_agua.add_connection(bellas_artes, 2)\n",
    "salto_del_agua.add_connection(pino_suarez, 2)\n",
    "salto_del_agua.add_connection(chabacano, 3)\n",
    "candelaria.add_connection(pino_suarez, 2)\n",
    "candelaria.add_connection(morelos, 1)\n",
    "candelaria.add_connection(san_lazaro, 1)\n",
    "candelaria.add_connection(jamaica, 2)\n",
    "san_lazaro.add_connection(candelaria, 1)\n",
    "san_lazaro.add_connection(morelos, 1)\n",
    "san_lazaro.add_connection(oceania, 3)\n",
    "san_lazaro.add_connection(pantitlan, 6)\n",
    "pantitlan.add_connection(oceania, 3)\n",
    "pantitlan.add_connection(san_lazaro, 6)\n",
    "pantitlan.add_connection(jamaica, 5)\n",
    "la_raza.add_connection(instituto_del_petroleo, 2)\n",
    "la_raza.add_connection(deportivo_18_de_marzo, 2)\n",
    "la_raza.add_connection(consulado, 3)\n",
    "la_raza.add_connection(guerrero, 2)\n",
    "guerrero.add_connection(la_raza, 2)\n",
    "guerrero.add_connection(garibaldi, 1)\n",
    "guerrero.add_connection(hidalgo, 1)\n",
    "zapata.add_connection(centro_medico, 4)\n",
    "zapata.add_connection(ermita, 3)\n",
    "zapata.add_connection(mixcoac, 3)\n",
    "garibaldi.add_connection(guerrero, 1)\n",
    "garibaldi.add_connection(morelos, 3)\n",
    "garibaldi.add_connection(bellas_artes, 1)\n",
    "atlalilco.add_connection(chabacano, 8)\n",
    "atlalilco.add_connection(ermita, 2)\n",
    "jamaica.add_connection(chabacano, 1)\n",
    "jamaica.add_connection(candelaria, 2)\n",
    "jamaica.add_connection(pantitlan, 5)\n",
    "oceania.add_connection(san_lazaro, 3)\n",
    "oceania.add_connection(consulado, 3)\n",
    "oceania.add_connection(pantitlan, 3)\n",
    "morelos.add_connection(garibaldi, 3)\n",
    "morelos.add_connection(consulado, 2)\n",
    "morelos.add_connection(san_lazaro, 1)\n",
    "morelos.add_connection(candelaria, 1)\n",
    "consulado.add_connection(la_raza, 3)\n",
    "consulado.add_connection(martin_carrera, 3)\n",
    "consulado.add_connection(oceania, 3)\n",
    "consulado.add_connection(morelos, 2)\n",
    "centro_medico.add_connection(tacubaya, 3)\n",
    "centro_medico.add_connection(balderas, 3)\n",
    "centro_medico.add_connection(chabacano, 2)\n",
    "centro_medico.add_connection(zapata, 4)\n",
    "mixcoac.add_connection(tacubaya, 3)\n",
    "mixcoac.add_connection(zapata, 3)\n"
   ]
  },
  {
   "cell_type": "markdown",
   "metadata": {},
   "source": [
    "Create a fitness function"
   ]
  },
  {
   "cell_type": "code",
   "execution_count": 63,
   "metadata": {},
   "outputs": [],
   "source": [
    "class Fitness:\n",
    "    def __init__(self, route):\n",
    "        self.route = route  # Ruta que se evalúa\n",
    "        self.distance = 0   # Inicializa la distancia de la ruta\n",
    "        self.fitness= 0.0   # Inicializa el valor de fitness\n",
    "    \n",
    "    def routeDistance(self):\n",
    "        if self.distance ==0:   # Calcula la distancia si no ha sido calculada antes\n",
    "            pathDistance = 0\n",
    "            for i in range(0, len(self.route)-1):   # Suma las distancias entre cada par de estaciones consecutivas\n",
    "                fromStation = self.route[i]\n",
    "                toStation = self.route[i+1]\n",
    "                pathDistance += fromStation.distance(toStation)\n",
    "            self.distance = pathDistance\n",
    "        return self.distance\n",
    "    \n",
    "    def routeFitness(self):    # Calcula el fitness si no ha sido calculado antes\n",
    "        if self.fitness == 0:\n",
    "            self.fitness = 1 / float(self.routeDistance())   # Fitness es el inverso de la distancia total (mayor distancia = menor fitness)\n",
    "        return self.fitness"
   ]
  },
  {
   "cell_type": "markdown",
   "metadata": {},
   "source": [
    "## Create our initial population"
   ]
  },
  {
   "cell_type": "markdown",
   "metadata": {},
   "source": [
    "Route generator"
   ]
  },
  {
   "cell_type": "code",
   "execution_count": 64,
   "metadata": {},
   "outputs": [],
   "source": [
    "def createRoute(start_station, end_station, max_attempts=10):\n",
    "    for attempt in range(max_attempts): # Intenta crear una ruta válida hasta max_attempts veces\n",
    "                                        # Esto para asegurar que cumpla con los criterios de iniciar y terminar donde deben\n",
    "        route = [start_station]     # Comienza la ruta con la estación de inicio\n",
    "        current_station = start_station\n",
    "        \n",
    "        try:\n",
    "            while current_station != end_station: # Continúa hasta alcanzar la estación final\n",
    "                # Obtén las posibles siguientes estaciones que no sean la estación previa (si existe)\n",
    "                if len(route) > 1:\n",
    "                    prev_station = route[-2]  # La estación previa es la penúltima en la ruta actual\n",
    "                    possible_next_stations = [station for station in current_station.connections\n",
    "                                              if station != prev_station and station not in route] # Filtra posibles siguientes estaciones\n",
    "                else:\n",
    "                    possible_next_stations = list(current_station.connections.keys())\n",
    "                \n",
    "                # Si no hay estaciones a las que ir, inicia un nuevo intento\n",
    "                if not possible_next_stations:\n",
    "                    raise ValueError\n",
    "                \n",
    "                # Elige la próxima estación de manera aleatoria y la añade a la ruta\n",
    "                next_station = random.choice(possible_next_stations)\n",
    "                route.append(next_station)\n",
    "                current_station = next_station\n",
    "                \n",
    "            # Si llegamos a 'end_station' con éxito, devuelve la ruta\n",
    "            return route\n",
    "        \n",
    "        except ValueError:\n",
    "            # Si nos quedamos atascados, intentamos de nuevo\n",
    "            continue\n",
    "    \n",
    "    # Si todos los intentos fallan, devuelve la última ruta intentada (aunque esté incompleta)\n",
    "    return route\n"
   ]
  },
  {
   "cell_type": "markdown",
   "metadata": {},
   "source": [
    "Create first \"population\" (list of routes)"
   ]
  },
  {
   "cell_type": "code",
   "execution_count": 65,
   "metadata": {},
   "outputs": [],
   "source": [
    "def initialPopulation(popSize, start_station, end_station, max_attempts=10):\n",
    "    population = []  # Inicializa una lista vacía para la población\n",
    "\n",
    "    for i in range(0, popSize):   # Itera para crear la cantidad de rutas especificada por popSize\n",
    "        # Crea una ruta válida entre la estación de inicio y la de fin\n",
    "        population.append(createRoute(start_station, end_station, max_attempts)) # Añade la ruta generada a la población\n",
    "    return population  # Devuelve la población completa como una lista de rutas"
   ]
  },
  {
   "cell_type": "markdown",
   "metadata": {},
   "source": [
    "## Create the genetic algorithm"
   ]
  },
  {
   "cell_type": "markdown",
   "metadata": {},
   "source": [
    "Rank individuals"
   ]
  },
  {
   "cell_type": "code",
   "execution_count": 66,
   "metadata": {},
   "outputs": [],
   "source": [
    "def rankRoutes(population):\n",
    "    fitnessResults = {}   # Inicializa un diccionario para almacenar los resultados de fitness\n",
    "\n",
    "    for i in range(0,len(population)):   # Itera sobre cada ruta en la población\n",
    "        # Calcula el fitness de la ruta utilizando la clase Fitness\n",
    "        fitnessResults[i] = Fitness(population[i]).routeFitness()\n",
    "        # Ordena las rutas por su fitness en orden descendente (la ruta con mayor fitness primero)\n",
    "    return sorted(fitnessResults.items(), key = operator.itemgetter(1), reverse = True)"
   ]
  },
  {
   "cell_type": "markdown",
   "metadata": {},
   "source": [
    "Create a selection function that will be used to make the list of parent routes"
   ]
  },
  {
   "cell_type": "code",
   "execution_count": 67,
   "metadata": {},
   "outputs": [],
   "source": [
    "def selection(popRanked, eliteSize):\n",
    "    \n",
    "    # popRanked: Esta es la lista de individuos de la población actual, \n",
    "    #ordenados por su fitness. Cada elemento es una tupla que contiene el \n",
    "    #índice del individuo en la población original y su valor de fitness.\n",
    "    \n",
    "    selectionResults = []  # Lista para almacenar los índices de los individuos seleccionados\n",
    "    df = pd.DataFrame(np.array(popRanked), columns=[\"Index\",\"Fitness\"])\n",
    "    # Crea un DataFrame a partir de los resultados de fitness clasificados para facilitar el manejo de datos\n",
    "\n",
    "    df['cum_sum'] = df.Fitness.cumsum() # Calcula la suma acumulativa de los valores de fitness\n",
    "    df['cum_perc'] = 100*df.cum_sum/df.Fitness.sum() # Calcula el porcentaje acumulativo de los valores de fitness\n",
    "    \n",
    "    # Añade directamente los individuos de élite al conjunto de resultados seleccionados\n",
    "    for i in range(0, eliteSize):\n",
    "        selectionResults.append(popRanked[i][0])\n",
    "        \n",
    "    # Rueda de ruleta para la selección del resto de la población\n",
    "    for i in range(0, len(popRanked) - eliteSize): # Asegura seleccionar suficientes individuos para la próxima generación\n",
    "        pick = 100*random.random()   # Elige un número al azar entre 0 y 100\n",
    "        for i in range(0, len(popRanked)):\n",
    "            if pick <= df.iat[i,3]:   # Compara el número elegido con los porcentajes acumulativos de fitness\n",
    "                selectionResults.append(popRanked[i][0])   # Añade el índice del individuo seleccionado\n",
    "                break\n",
    "    return selectionResults"
   ]
  },
  {
   "cell_type": "markdown",
   "metadata": {},
   "source": [
    "Create mating pool"
   ]
  },
  {
   "cell_type": "code",
   "execution_count": 68,
   "metadata": {},
   "outputs": [],
   "source": [
    "def matingPool(population, selectionResults):\n",
    "    matingpool = [] # Lista para almacenar el grupo de apareamiento\n",
    "    \n",
    "    for i in range(0, len(selectionResults)):# Itera sobre los índices de los individuos seleccionados\n",
    "        index = selectionResults[i]# Obtiene el índice de un individuo seleccionado\n",
    "        matingpool.append(population[index]) # Añade el individuo correspondiente al grupo de apareamiento\n",
    "    return matingpool # Devuelve el grupo de apareamiento completo"
   ]
  },
  {
   "cell_type": "markdown",
   "metadata": {},
   "source": [
    "Create a crossover function for two parents to create one child"
   ]
  },
  {
   "cell_type": "code",
   "execution_count": 69,
   "metadata": {},
   "outputs": [],
   "source": [
    "def breed(parent1, parent2):\n",
    "    # El proposito de esta funcion es generar nuevos individuos que combinen\n",
    "    # caracteristicas de los padres\n",
    "    \n",
    "    child = []     # Lista para almacenar el nuevo individuo generado\n",
    "    childP1 = []   # Lista para almacenar la contribución genética del primer padre\n",
    "    childP2 = []   # Lista para almacenar la contribución genética del segundo padre\n",
    "    \n",
    "    # Determine the shorter and longer parents\n",
    "    shorter_parent = parent1 if len(parent1) < len(parent2) else parent2\n",
    "    longer_parent = parent2 if len(parent1) < len(parent2) else parent1\n",
    "    \n",
    "    # Randomly select crossover points within the length of the shorter parent\n",
    "    geneA = int(random.random() * len(shorter_parent))\n",
    "    geneB = int(random.random() * len(shorter_parent))\n",
    "    \n",
    "    startGene = min(geneA, geneB) # Comienzo del segmento a cruzar\n",
    "    endGene = max(geneA, geneB)   # Fin del segmento a cruzar\n",
    "\n",
    "    # Copy the segment of the shorter parent between startGene and endGene (inclusive) into childP1\n",
    "    for i in range(startGene, endGene):\n",
    "        childP1.append(shorter_parent[i])\n",
    "    \n",
    "    # Copy the remaining genetic material from the longer parent that is not already present in childP1 into childP2\n",
    "    childP2 = [item for item in longer_parent if item not in childP1]\n",
    "\n",
    "    # Combine childP1 and childP2 to form the new individual\n",
    "    child = childP1 + childP2\n",
    "    \n",
    "    # Ensure that the first and last numbers of the child match those of the longer parent\n",
    "    child[0] = longer_parent[0]\n",
    "    child[-1] = longer_parent[-1]\n",
    "    \n",
    "    return child\n"
   ]
  },
  {
   "cell_type": "markdown",
   "metadata": {},
   "source": [
    "Create function to run crossover over full mating pool"
   ]
  },
  {
   "cell_type": "code",
   "execution_count": 70,
   "metadata": {},
   "outputs": [],
   "source": [
    "def breedPopulation(matingpool, eliteSize):\n",
    "    children = []  # Lista para almacenar los nuevos individuos (hijos) generados\n",
    "    length = len(matingpool) - eliteSize  # Número de hijos que necesitan ser creados excluyendo los élites\n",
    "    pool = random.sample(matingpool, len(matingpool))   # Mezclar aleatoriamente el pool de apareamiento\n",
    "\n",
    "    for i in range(0,eliteSize):\n",
    "        children.append(matingpool[i])  # Añadir directamente los individuos élite a la nueva generación\n",
    "    \n",
    "    for i in range(0, length):\n",
    "        child = breed(pool[i], pool[len(matingpool)-i-1])  # Generar un hijo a partir de dos padres seleccionados\n",
    "        children.append(child)  # Añadir el nuevo individuo a la lista de hijos\n",
    "\n",
    "    return children  # Devolver la nueva generación completa de individuos"
   ]
  },
  {
   "cell_type": "markdown",
   "metadata": {},
   "source": [
    "Create function to mutate a single route"
   ]
  },
  {
   "cell_type": "code",
   "execution_count": 71,
   "metadata": {},
   "outputs": [],
   "source": [
    "def mutate(individual, mutationRate):\n",
    "    \n",
    "    # El propósito de la función mutate es introducir cambios aleatorios en los \n",
    "    # individuos de la población, lo que puede llevar a descubrir nuevas áreas \n",
    "    # del espacio de solución que de otro modo podrían no explorarse.\n",
    "    \n",
    "    # Ensure there are at least three genes to mutate\n",
    "    if len(individual) < 3:\n",
    "        return individual\n",
    "\n",
    "    # Iterate over genes skipping the first and last\n",
    "    for swapped in range(1, len(individual) - 1):\n",
    "        # Check if mutation should occur based on the mutation rate\n",
    "        if random.random() < mutationRate:\n",
    "            # Select another random gene to swap with\n",
    "            swapWith = int(random.random() * (len(individual) - 2)) + 1\n",
    "\n",
    "            # Swap the values of the current gene and the randomly selected gene\n",
    "            city1 = individual[swapped]\n",
    "            city2 = individual[swapWith]\n",
    "            individual[swapped] = city2\n",
    "            individual[swapWith] = city1\n",
    "\n",
    "    return individual\n"
   ]
  },
  {
   "cell_type": "markdown",
   "metadata": {},
   "source": [
    "Create function to run mutation over entire population"
   ]
  },
  {
   "cell_type": "code",
   "execution_count": 72,
   "metadata": {},
   "outputs": [],
   "source": [
    "def mutatePopulation(population, mutationRate):\n",
    "    \n",
    "    # Esta función es crucial para introducir variaciones aleatorias en \n",
    "    # la población y a evitar que el algoritmo se estanque en mínimos locales.\n",
    "    \n",
    "    mutatedPop = [] # Lista para almacenar la población mutada\n",
    "    \n",
    "    for ind in range(0, len(population)):  # Itera sobre cada individuo en la población original\n",
    "        mutatedInd = mutate(population[ind], mutationRate) # Aplica la función de mutación a cada individuo\n",
    "        mutatedPop.append(mutatedInd) # Añade el individuo mutado a la nueva población mutada\n",
    "       \n",
    "    # Devuelve la población completa después de aplicar la mutación\n",
    "    return mutatedPop"
   ]
  },
  {
   "cell_type": "markdown",
   "metadata": {},
   "source": [
    "Put all steps together to create the next generation"
   ]
  },
  {
   "cell_type": "code",
   "execution_count": 73,
   "metadata": {},
   "outputs": [],
   "source": [
    "def nextGeneration(currentGen, eliteSize, mutationRate):\n",
    "    popRanked = rankRoutes(currentGen) # Evalúa y clasifica la generación actual según su fitness\n",
    "    selectionResults = selection(popRanked, eliteSize) # Selecciona los mejores individuos para reproducción\n",
    "    matingpool = matingPool(currentGen, selectionResults)  # Crea el grupo de apareamiento a partir de los seleccionados\n",
    "    children = breedPopulation(matingpool, eliteSize)  # Cruza los individuos del grupo de apareamiento para crear hijos\n",
    "    nextGeneration = mutatePopulation(children, mutationRate)  # Aplica mutaciones a los hijos para formar la nueva generación\n",
    "    return nextGeneration  # Devuelve la nueva generación de individuos"
   ]
  },
  {
   "cell_type": "markdown",
   "metadata": {},
   "source": [
    "Final step: create the genetic algorithm"
   ]
  },
  {
   "cell_type": "code",
   "execution_count": 95,
   "metadata": {},
   "outputs": [],
   "source": [
    "def geneticAlgorithm(route, start_station, end_station, max_attempts, popSize, eliteSize, mutationRate, generations):\n",
    "    # Inicializa la población con rutas generadas aleatoriamente entre las estaciones de inicio y fin\n",
    "    pop = initialPopulation(popSize, start_station, end_station, max_attempts)\n",
    "    \n",
    "    # Evalúa la generación inicial y obtiene el fitness de la mejor ruta\n",
    "    best_route_fitness = rankRoutes(pop)[0][1]  # El mejor fitness en la población inicial\n",
    "    \n",
    "    # Calcula la distancia de una ruta inicial dada para comparar mejoras\n",
    "    route_fitness = Fitness(route)\n",
    "    route_distance = route_fitness.routeDistance()\n",
    "    print(\"Initial distance given initial random route is:\", route_distance)\n",
    "    \n",
    "    # Itera a través del número especificado de generaciones para evolucionar la población\n",
    "    for i in range(0, generations):\n",
    "        pop = nextGeneration(pop, eliteSize, mutationRate)  # Evoluciona la población para la siguiente generación\n",
    "    \n",
    "    # Al final de todas las generaciones, evalúa la nueva población y obtiene la mejor ruta\n",
    "    print(\"Final distance: \" + str(1 / rankRoutes(pop)[0][1]))  # Invierte el fitness para obtener la distancia\n",
    "    bestRouteIndex = rankRoutes(pop)[0][0]  # Índice de la mejor ruta en la última generación\n",
    "    bestRoute = pop[bestRouteIndex]  # Obtiene la mejor ruta de la última generación\n",
    "    \n",
    "    return bestRoute  # Devuelve la mejor ruta encontrada"
   ]
  },
  {
   "cell_type": "markdown",
   "metadata": {},
   "source": [
    "## Running the genetic algorithm"
   ]
  },
  {
   "cell_type": "markdown",
   "metadata": {},
   "source": [
    "Create list of cities"
   ]
  },
  {
   "cell_type": "code",
   "execution_count": 96,
   "metadata": {},
   "outputs": [
    {
     "data": {
      "text/plain": [
       "[el_rosario,\n",
       " tacuba,\n",
       " hidalgo,\n",
       " guerrero,\n",
       " la_raza,\n",
       " instituto_del_petroleo,\n",
       " deportivo_18_de_marzo,\n",
       " martin_carrera,\n",
       " consulado,\n",
       " morelos,\n",
       " garibaldi,\n",
       " bellas_artes,\n",
       " salto_del_agua,\n",
       " pino_suarez,\n",
       " chabacano,\n",
       " jamaica,\n",
       " candelaria,\n",
       " san_lazaro]"
      ]
     },
     "execution_count": 96,
     "metadata": {},
     "output_type": "execute_result"
    }
   ],
   "source": [
    "StationList = [el_rosario,\n",
    "instituto_del_petroleo, \n",
    "deportivo_18_de_marzo, \n",
    "la_raza ,\n",
    "consulado, \n",
    "morelos ,\n",
    "san_lazaro, \n",
    "guerrero ,\n",
    "hidalgo ,\n",
    "bellas_artes ,\n",
    "salto_del_agua,\n",
    "balderas ,\n",
    "tacubaya ,\n",
    "pino_suarez,\n",
    "martin_carrera ,\n",
    "oceania ,\n",
    "pantitlan ,\n",
    "candelaria,\n",
    "centro_medico, \n",
    "tacuba,\n",
    "guerrero,\n",
    "garibaldi, \n",
    "ermita ,\n",
    "atlalilco, \n",
    "zapata  ,\n",
    "mixcoac ,\n",
    "jamaica ,\n",
    "chabacano] \n",
    "\n",
    "# Crear un mapa a partir de la lista de estaciones para facilitar la búsqueda por nombre\n",
    "station_map = {station.name: station for station in StationList}\n",
    "\n",
    "# Crear una ruta\n",
    "random_route = createRoute(station_map[\"el_rosario\"], station_map[\"san_lazaro\"])\n",
    "random_route"
   ]
  },
  {
   "cell_type": "code",
   "execution_count": 97,
   "metadata": {},
   "outputs": [
    {
     "name": "stdout",
     "output_type": "stream",
     "text": [
      "La distancia total de la ruta es: 39\n"
     ]
    }
   ],
   "source": [
    "# Crear una instancia de Fitness pasando la ruta generada\n",
    "route_fitness = Fitness(random_route)\n",
    "\n",
    "# Calcular la distancia de la ruta\n",
    "route_distance = route_fitness.routeDistance()\n",
    "\n",
    "# Imprimir la distancia calculada\n",
    "print(\"La distancia total de la ruta es:\", route_distance)"
   ]
  },
  {
   "cell_type": "markdown",
   "metadata": {},
   "source": [
    "Run the genetic algorithm"
   ]
  },
  {
   "cell_type": "code",
   "execution_count": 98,
   "metadata": {
    "scrolled": true
   },
   "outputs": [
    {
     "name": "stdout",
     "output_type": "stream",
     "text": [
      "Initial distance given initial random route is: 39\n",
      "Final distance: 14.0\n"
     ]
    },
    {
     "data": {
      "text/plain": [
       "[el_rosario, instituto_del_petroleo, la_raza, consulado, morelos, san_lazaro]"
      ]
     },
     "execution_count": 98,
     "metadata": {},
     "output_type": "execute_result"
    }
   ],
   "source": [
    "geneticAlgorithm(random_route, station_map[\"el_rosario\"], station_map[\"san_lazaro\"], max_attempts=10, popSize=150, eliteSize=20, mutationRate=0.01, generations=500)"
   ]
  },
  {
   "cell_type": "markdown",
   "metadata": {},
   "source": [
    "## Plot the progress"
   ]
  },
  {
   "cell_type": "markdown",
   "metadata": {},
   "source": [
    "Note, this will win run a separate GA"
   ]
  },
  {
   "cell_type": "code",
   "execution_count": 99,
   "metadata": {},
   "outputs": [],
   "source": [
    "def geneticAlgorithmPlot(start_station, end_station, max_attempts, popSize, eliteSize, mutationRate, generations):\n",
    "    pop = initialPopulation(popSize, start_station, end_station, max_attempts)\n",
    "    progress = []\n",
    "    progress.append(1 / rankRoutes(pop)[0][1])\n",
    "    \n",
    "    for i in range(0, generations):\n",
    "        pop = nextGeneration(pop, eliteSize, mutationRate)\n",
    "        progress.append(1 / rankRoutes(pop)[0][1])\n",
    "    \n",
    "    plt.plot(progress)\n",
    "    plt.ylabel('Distance')\n",
    "    plt.xlabel('Generation')\n",
    "    plt.show()\n",
    "    "
   ]
  },
  {
   "cell_type": "markdown",
   "metadata": {},
   "source": [
    "Run the function with our assumptions to see how distance has improved in each generation"
   ]
  },
  {
   "cell_type": "code",
   "execution_count": 100,
   "metadata": {},
   "outputs": [
    {
     "data": {
      "image/png": "[encoded data removed]",
      "text/plain": [
       "<Figure size 640x480 with 1 Axes>"
      ]
     },
     "metadata": {},
     "output_type": "display_data"
    }
   ],
   "source": [
    "geneticAlgorithmPlot(station_map[\"el_rosario\"], station_map[\"san_lazaro\"], max_attempts=10, popSize=100, eliteSize=5, mutationRate=0.01, generations=500)"
   ]
  },
  {
   "cell_type": "code",
   "execution_count": null,
   "metadata": {},
   "outputs": [],
   "source": []
  }
 ],
 "metadata": {
  "kernelspec": {
   "display_name": "Python 3 (ipykernel)",
   "language": "python",
   "name": "python3"
  },
  "language_info": {
   "codemirror_mode": {
    "name": "ipython",
    "version": 3
   },
   "file_extension": ".py",
   "mimetype": "text/x-python",
   "name": "python",
   "nbconvert_exporter": "python",
   "pygments_lexer": "ipython3",
   "version": "3.11.9"
  }
 },
 "nbformat": 4,
 "nbformat_minor": 2
}
